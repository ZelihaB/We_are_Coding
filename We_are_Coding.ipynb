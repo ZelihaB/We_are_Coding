{
  "nbformat": 4,
  "nbformat_minor": 0,
  "metadata": {
    "colab": {
      "provenance": []
    },
    "kernelspec": {
      "name": "python3",
      "display_name": "Python 3"
    },
    "language_info": {
      "name": "python"
    }
  },
  "cells": [
    {
      "cell_type": "markdown",
      "source": [
        "## We are coding together!"
      ],
      "metadata": {
        "id": "l06IV7sHz6RG"
      }
    },
    {
      "cell_type": "markdown",
      "source": [
        "Arithmetic Operations with Python"
      ],
      "metadata": {
        "id": "DO3E6pfJ0n8h"
      }
    },
    {
      "cell_type": "code",
      "source": [
        "# Let's sum 3,7,8,9\n",
        "\n",
        "3+7+8+9"
      ],
      "metadata": {
        "colab": {
          "base_uri": "https://localhost:8080/"
        },
        "id": "2TQFXpWK0yzU",
        "outputId": "2f203b8d-0c14-42be-c489-84d732821a16"
      },
      "execution_count": 3,
      "outputs": [
        {
          "output_type": "execute_result",
          "data": {
            "text/plain": [
              "27"
            ]
          },
          "metadata": {},
          "execution_count": 3
        }
      ]
    },
    {
      "cell_type": "code",
      "source": [
        "# Let's multiply 3 and 7 and add 5\n",
        "3*7+5"
      ],
      "metadata": {
        "colab": {
          "base_uri": "https://localhost:8080/"
        },
        "id": "9f3ScAAe07gi",
        "outputId": "adaa1be9-9967-460a-9b5f-18762c19ed04"
      },
      "execution_count": 4,
      "outputs": [
        {
          "output_type": "execute_result",
          "data": {
            "text/plain": [
              "26"
            ]
          },
          "metadata": {},
          "execution_count": 4
        }
      ]
    },
    {
      "cell_type": "code",
      "source": [
        "# Divide 50 to 3 and find the type of the output\n",
        "#Type\n",
        "type(50/3)\n",
        "\n"
      ],
      "metadata": {
        "colab": {
          "base_uri": "https://localhost:8080/"
        },
        "id": "W1DYTD081Owz",
        "outputId": "266a3c08-f0bc-4a1e-ce49-54c72b0da2e4"
      },
      "execution_count": 5,
      "outputs": [
        {
          "output_type": "execute_result",
          "data": {
            "text/plain": [
              "float"
            ]
          },
          "metadata": {},
          "execution_count": 5
        }
      ]
    },
    {
      "cell_type": "markdown",
      "source": [
        "## Data Types"
      ],
      "metadata": {
        "id": "m_AOltEh1sio"
      }
    },
    {
      "cell_type": "markdown",
      "source": [
        "Text Type:\tstr\n",
        "\n",
        "Numeric Types:\tint, float\n",
        "\n",
        "Sequence Types:\tlist, tuple\n",
        "\n",
        "Mapping Type:\tdict\n",
        "\n",
        "Boolean Type:\tbool\n"
      ],
      "metadata": {
        "id": "Vtr_Nl1q10D6"
      }
    },
    {
      "cell_type": "code",
      "source": [
        "x = 3\n",
        "\n",
        "y = \"Data types in Python are Numeric(float, int), Boolean, Set, Dictionary,Sequence(list [],tuple ())\"\n"
      ],
      "metadata": {
        "id": "GAig0IQokcpT"
      },
      "execution_count": 87,
      "outputs": []
    },
    {
      "cell_type": "code",
      "source": [
        "type(x)"
      ],
      "metadata": {
        "colab": {
          "base_uri": "https://localhost:8080/"
        },
        "id": "7djDR4hHklYH",
        "outputId": "a7158ae1-85ed-43c1-c9c1-446b0c7e8870"
      },
      "execution_count": 88,
      "outputs": [
        {
          "output_type": "execute_result",
          "data": {
            "text/plain": [
              "int"
            ]
          },
          "metadata": {},
          "execution_count": 88
        }
      ]
    },
    {
      "cell_type": "code",
      "source": [
        "type(y)"
      ],
      "metadata": {
        "colab": {
          "base_uri": "https://localhost:8080/"
        },
        "id": "98QuQnvukqFk",
        "outputId": "49ba4ff9-5146-4c68-8b99-d6e00393e9cc"
      },
      "execution_count": 89,
      "outputs": [
        {
          "output_type": "execute_result",
          "data": {
            "text/plain": [
              "str"
            ]
          },
          "metadata": {},
          "execution_count": 89
        }
      ]
    },
    {
      "cell_type": "code",
      "source": [
        "# Let's find the data types of these  3.14 ,  -39,  miuul,  True\n",
        "#type(100)"
      ],
      "metadata": {
        "id": "c5vuaBBp43AI"
      },
      "execution_count": 15,
      "outputs": []
    },
    {
      "cell_type": "code",
      "source": [
        "type(3.14)"
      ],
      "metadata": {
        "colab": {
          "base_uri": "https://localhost:8080/"
        },
        "id": "xrGGCkp_5iZp",
        "outputId": "24e49f74-8f95-4b9d-f3c9-0d9a202f7d74"
      },
      "execution_count": 90,
      "outputs": [
        {
          "output_type": "execute_result",
          "data": {
            "text/plain": [
              "float"
            ]
          },
          "metadata": {},
          "execution_count": 90
        }
      ]
    },
    {
      "cell_type": "code",
      "source": [
        "type(-39)"
      ],
      "metadata": {
        "colab": {
          "base_uri": "https://localhost:8080/"
        },
        "id": "2KbxV5Cqk0q7",
        "outputId": "c3cf0fd5-1730-44d8-b6d8-b2489748d231"
      },
      "execution_count": 91,
      "outputs": [
        {
          "output_type": "execute_result",
          "data": {
            "text/plain": [
              "int"
            ]
          },
          "metadata": {},
          "execution_count": 91
        }
      ]
    },
    {
      "cell_type": "code",
      "source": [
        "type(miuul)  #invalid variable\n",
        "\n",
        "#we get error since we do not define miuul"
      ],
      "metadata": {
        "colab": {
          "base_uri": "https://localhost:8080/",
          "height": 179
        },
        "id": "SWAE6Xw4k87O",
        "outputId": "b9d27414-66e6-4347-a244-1d5581100f84"
      },
      "execution_count": 93,
      "outputs": [
        {
          "output_type": "error",
          "ename": "NameError",
          "evalue": "ignored",
          "traceback": [
            "\u001b[0;31m---------------------------------------------------------------------------\u001b[0m",
            "\u001b[0;31mNameError\u001b[0m                                 Traceback (most recent call last)",
            "\u001b[0;32m<ipython-input-93-f35f6bb802b4>\u001b[0m in \u001b[0;36m<cell line: 1>\u001b[0;34m()\u001b[0m\n\u001b[0;32m----> 1\u001b[0;31m \u001b[0mtype\u001b[0m\u001b[0;34m(\u001b[0m\u001b[0mmiuul\u001b[0m\u001b[0;34m)\u001b[0m\u001b[0;34m\u001b[0m\u001b[0;34m\u001b[0m\u001b[0m\n\u001b[0m",
            "\u001b[0;31mNameError\u001b[0m: name 'miuul' is not defined"
          ]
        }
      ]
    },
    {
      "cell_type": "code",
      "source": [
        "type(True)"
      ],
      "metadata": {
        "colab": {
          "base_uri": "https://localhost:8080/"
        },
        "id": "X_jrP5p-lGN4",
        "outputId": "3a69549c-1e59-46b7-b301-bfab4782fc9a"
      },
      "execution_count": 94,
      "outputs": [
        {
          "output_type": "execute_result",
          "data": {
            "text/plain": [
              "bool"
            ]
          },
          "metadata": {},
          "execution_count": 94
        }
      ]
    },
    {
      "cell_type": "markdown",
      "source": [
        "## Creating Variables"
      ],
      "metadata": {
        "id": "NPFTizIy2YxV"
      }
    },
    {
      "cell_type": "code",
      "source": [
        "#Let's create name variable and the type of it should be string\n",
        "name = \"Sally\""
      ],
      "metadata": {
        "id": "HdySKzrG2cDd"
      },
      "execution_count": 9,
      "outputs": []
    },
    {
      "cell_type": "code",
      "source": [
        "type(name)"
      ],
      "metadata": {
        "colab": {
          "base_uri": "https://localhost:8080/"
        },
        "id": "RvVcvpSB2oAE",
        "outputId": "68ef40ad-ae02-471d-a0f4-9db216505131"
      },
      "execution_count": 10,
      "outputs": [
        {
          "output_type": "execute_result",
          "data": {
            "text/plain": [
              "str"
            ]
          },
          "metadata": {},
          "execution_count": 10
        }
      ]
    },
    {
      "cell_type": "code",
      "source": [
        "#Assign 2023 to a year variable but it should be string"
      ],
      "metadata": {
        "id": "7FF3fXB22x6e"
      },
      "execution_count": 11,
      "outputs": []
    },
    {
      "cell_type": "code",
      "source": [
        "year = 2023\n",
        "type(year)"
      ],
      "metadata": {
        "colab": {
          "base_uri": "https://localhost:8080/"
        },
        "id": "J4YDLX8m3xhi",
        "outputId": "41d42b6a-3521-442f-92c6-3d1cb9c320cd"
      },
      "execution_count": 12,
      "outputs": [
        {
          "output_type": "execute_result",
          "data": {
            "text/plain": [
              "int"
            ]
          },
          "metadata": {},
          "execution_count": 12
        }
      ]
    },
    {
      "cell_type": "code",
      "source": [
        "#Ooops! We need to (\" \") to make integer to string"
      ],
      "metadata": {
        "id": "TSvd1Nls380Z"
      },
      "execution_count": 13,
      "outputs": []
    },
    {
      "cell_type": "code",
      "source": [
        "year = \"2023\"\n",
        "type(year) #this time it is all correct!"
      ],
      "metadata": {
        "colab": {
          "base_uri": "https://localhost:8080/"
        },
        "id": "Ux8q3m1C4QCz",
        "outputId": "30e26ffd-577b-4cb0-8e7b-8e06100a87df"
      },
      "execution_count": 14,
      "outputs": [
        {
          "output_type": "execute_result",
          "data": {
            "text/plain": [
              "str"
            ]
          },
          "metadata": {},
          "execution_count": 14
        }
      ]
    },
    {
      "cell_type": "code",
      "source": [
        "# Assign t variable to True and control the type of it"
      ],
      "metadata": {
        "id": "Hcfhbf5S6VsI"
      },
      "execution_count": 20,
      "outputs": []
    },
    {
      "cell_type": "code",
      "source": [
        "t = True\n",
        "type(t)"
      ],
      "metadata": {
        "colab": {
          "base_uri": "https://localhost:8080/"
        },
        "id": "mp1q2Qmf6i8p",
        "outputId": "9392318c-c0f5-4b73-cb79-8ac1571c12a8"
      },
      "execution_count": 24,
      "outputs": [
        {
          "output_type": "execute_result",
          "data": {
            "text/plain": [
              "bool"
            ]
          },
          "metadata": {},
          "execution_count": 24
        }
      ]
    },
    {
      "cell_type": "code",
      "source": [
        "True + False"
      ],
      "metadata": {
        "colab": {
          "base_uri": "https://localhost:8080/"
        },
        "id": "QIZ_VkdG6tz-",
        "outputId": "0139a6c5-d5e5-42c3-87f7-82a2e9ad570b"
      },
      "execution_count": 27,
      "outputs": [
        {
          "output_type": "execute_result",
          "data": {
            "text/plain": [
              "1"
            ]
          },
          "metadata": {},
          "execution_count": 27
        }
      ]
    },
    {
      "cell_type": "code",
      "source": [
        "3 + 5 #int plus int is int"
      ],
      "metadata": {
        "colab": {
          "base_uri": "https://localhost:8080/"
        },
        "id": "iVrfQ1gt66eG",
        "outputId": "5a3c827b-48fb-43b8-f3b5-91fc54dd2518"
      },
      "execution_count": 28,
      "outputs": [
        {
          "output_type": "execute_result",
          "data": {
            "text/plain": [
              "8"
            ]
          },
          "metadata": {},
          "execution_count": 28
        }
      ]
    },
    {
      "cell_type": "code",
      "source": [
        "3.5 + 4.5  #float plus float is float"
      ],
      "metadata": {
        "colab": {
          "base_uri": "https://localhost:8080/"
        },
        "id": "0fq6UyMr66zu",
        "outputId": "66ecb9c1-d970-46d5-f100-d9394f5da3ba"
      },
      "execution_count": 31,
      "outputs": [
        {
          "output_type": "execute_result",
          "data": {
            "text/plain": [
              "8.0"
            ]
          },
          "metadata": {},
          "execution_count": 31
        }
      ]
    },
    {
      "cell_type": "code",
      "source": [
        "5 + 2.5  #integer plus integer is integer"
      ],
      "metadata": {
        "colab": {
          "base_uri": "https://localhost:8080/"
        },
        "id": "CY3-DQ8u7Hhy",
        "outputId": "e8fa9ec7-ddbb-4151-d0d6-238249e3d16b"
      },
      "execution_count": 32,
      "outputs": [
        {
          "output_type": "execute_result",
          "data": {
            "text/plain": [
              "7.5"
            ]
          },
          "metadata": {},
          "execution_count": 32
        }
      ]
    },
    {
      "cell_type": "code",
      "source": [
        "# The data type of boolen (True and False) is case sensitive and it is not true or TRUE"
      ],
      "metadata": {
        "id": "A3815Rol4gJ_"
      },
      "execution_count": 26,
      "outputs": []
    },
    {
      "cell_type": "code",
      "source": [
        "# We can write any variables in the same line, consequently"
      ],
      "metadata": {
        "id": "VWsypbg-65qH"
      },
      "execution_count": 33,
      "outputs": []
    },
    {
      "cell_type": "code",
      "source": [
        "p, q, r = \"Life\", \"is\", \"good!\"\n",
        "print(p,q,r)"
      ],
      "metadata": {
        "colab": {
          "base_uri": "https://localhost:8080/"
        },
        "id": "WK0YcfwK8zGc",
        "outputId": "d92d9826-5d49-4d4d-ab2f-c9f696459eaf"
      },
      "execution_count": 36,
      "outputs": [
        {
          "output_type": "stream",
          "name": "stdout",
          "text": [
            "Life is good!\n"
          ]
        }
      ]
    },
    {
      "cell_type": "code",
      "source": [
        "p = 7\n",
        "q = \"cats\"\n",
        "print(p,q)"
      ],
      "metadata": {
        "colab": {
          "base_uri": "https://localhost:8080/"
        },
        "id": "_uq7PK4y9u8l",
        "outputId": "5cd27cb8-e8db-4bd1-b3e3-82bc7786b032"
      },
      "execution_count": 39,
      "outputs": [
        {
          "output_type": "stream",
          "name": "stdout",
          "text": [
            "7 cats\n"
          ]
        }
      ]
    },
    {
      "cell_type": "code",
      "source": [
        "x = \"awesome!\"\n",
        "print(\"Python is \" + x)"
      ],
      "metadata": {
        "colab": {
          "base_uri": "https://localhost:8080/"
        },
        "id": "OW_2PZsq-P2b",
        "outputId": "de991a74-f4da-42c8-9fd7-15902855c706"
      },
      "execution_count": 67,
      "outputs": [
        {
          "output_type": "stream",
          "name": "stdout",
          "text": [
            "Python is awesome!\n"
          ]
        }
      ]
    },
    {
      "cell_type": "code",
      "source": [
        "p = \"great!\"  #string\n",
        "\n",
        "def myfunc():\n",
        "  print(\"Python is \" + p)\n",
        "\n",
        "myfunc()\n"
      ],
      "metadata": {
        "colab": {
          "base_uri": "https://localhost:8080/"
        },
        "id": "gjy5oYii9Q8l",
        "outputId": "9acb9795-d088-4431-edc7-d4b57cf3943c"
      },
      "execution_count": 62,
      "outputs": [
        {
          "output_type": "stream",
          "name": "stdout",
          "text": [
            "Python is great!\n"
          ]
        }
      ]
    },
    {
      "cell_type": "code",
      "source": [
        "#Command Z is undo"
      ],
      "metadata": {
        "id": "HODGKI579tpG"
      },
      "execution_count": 40,
      "outputs": []
    },
    {
      "cell_type": "code",
      "source": [
        "#if a = 1989 then what is a-5\n",
        "a = 1989\n",
        "a-5"
      ],
      "metadata": {
        "colab": {
          "base_uri": "https://localhost:8080/"
        },
        "id": "PTkrdTkr_FPS",
        "outputId": "7c2a0ee6-cff3-4b79-de3d-048826e193e7"
      },
      "execution_count": 41,
      "outputs": [
        {
          "output_type": "execute_result",
          "data": {
            "text/plain": [
              "1984"
            ]
          },
          "metadata": {},
          "execution_count": 41
        }
      ]
    },
    {
      "cell_type": "code",
      "source": [
        "#give me name of two person who you love and assing them as a two person"
      ],
      "metadata": {
        "id": "ll9JvpHP_f7K"
      },
      "execution_count": 43,
      "outputs": []
    },
    {
      "cell_type": "code",
      "source": [
        "x = \"Mom\"\n",
        "y = \"Dad\""
      ],
      "metadata": {
        "id": "oBcMqpcCBIJI"
      },
      "execution_count": 44,
      "outputs": []
    },
    {
      "cell_type": "code",
      "source": [
        "#make second variable upper"
      ],
      "metadata": {
        "id": "6kpaPc0rBQz8"
      },
      "execution_count": 45,
      "outputs": []
    },
    {
      "cell_type": "code",
      "source": [
        "y.upper()"
      ],
      "metadata": {
        "colab": {
          "base_uri": "https://localhost:8080/",
          "height": 35
        },
        "id": "o4lTiIqeBXcH",
        "outputId": "0de4156e-8722-47b7-d345-7517d06bccfb"
      },
      "execution_count": 46,
      "outputs": [
        {
          "output_type": "execute_result",
          "data": {
            "text/plain": [
              "'DAD'"
            ],
            "application/vnd.google.colaboratory.intrinsic+json": {
              "type": "string"
            }
          },
          "metadata": {},
          "execution_count": 46
        }
      ]
    },
    {
      "cell_type": "code",
      "source": [
        "y #But why it is still not upper? It is not written in the memory so we should assign y again"
      ],
      "metadata": {
        "colab": {
          "base_uri": "https://localhost:8080/",
          "height": 35
        },
        "id": "0meiX2WWBaiu",
        "outputId": "6fb41d86-fba6-4041-8f3a-8f3dc8063bde"
      },
      "execution_count": 47,
      "outputs": [
        {
          "output_type": "execute_result",
          "data": {
            "text/plain": [
              "'Dad'"
            ],
            "application/vnd.google.colaboratory.intrinsic+json": {
              "type": "string"
            }
          },
          "metadata": {},
          "execution_count": 47
        }
      ]
    },
    {
      "cell_type": "code",
      "source": [
        "y = y.upper()\n",
        "y"
      ],
      "metadata": {
        "colab": {
          "base_uri": "https://localhost:8080/",
          "height": 35
        },
        "id": "4jK_O5k7IJPe",
        "outputId": "8d495eda-2f0b-423f-e836-e949280e32c5"
      },
      "execution_count": 53,
      "outputs": [
        {
          "output_type": "execute_result",
          "data": {
            "text/plain": [
              "'DAD'"
            ],
            "application/vnd.google.colaboratory.intrinsic+json": {
              "type": "string"
            }
          },
          "metadata": {},
          "execution_count": 53
        }
      ]
    },
    {
      "cell_type": "markdown",
      "source": [
        "## Functions"
      ],
      "metadata": {
        "id": "FT9wkm4hibqi"
      }
    },
    {
      "cell_type": "code",
      "source": [
        "\n",
        "#brackets () means functions in python. Sometimes brackets take parameters sometimes can't take parameters and\n",
        "# give error\n",
        "\n",
        "a = \"book\"\n",
        "print(a)\n",
        "\n",
        "#if there is () in function we need input in it."
      ],
      "metadata": {
        "colab": {
          "base_uri": "https://localhost:8080/"
        },
        "id": "Pk3ZBEF4BcCW",
        "outputId": "d22977b7-52df-462a-e860-b681a4117377"
      },
      "execution_count": 70,
      "outputs": [
        {
          "output_type": "stream",
          "name": "stdout",
          "text": [
            "book\n"
          ]
        }
      ]
    },
    {
      "cell_type": "code",
      "source": [
        "a.upper()  #after dot(.) you can press tab to see which fuctions can be use for this varible"
      ],
      "metadata": {
        "colab": {
          "base_uri": "https://localhost:8080/",
          "height": 35
        },
        "id": "eHRIbMG9imiU",
        "outputId": "7a349082-9e2f-478c-85f6-c3f15b6d5a67"
      },
      "execution_count": 71,
      "outputs": [
        {
          "output_type": "execute_result",
          "data": {
            "text/plain": [
              "'BOOK'"
            ],
            "application/vnd.google.colaboratory.intrinsic+json": {
              "type": "string"
            }
          },
          "metadata": {},
          "execution_count": 71
        }
      ]
    },
    {
      "cell_type": "code",
      "source": [
        "len(a)"
      ],
      "metadata": {
        "colab": {
          "base_uri": "https://localhost:8080/"
        },
        "id": "QIS17p12ixg9",
        "outputId": "cd39577d-09e4-4783-d231-6562c8b8d3dd"
      },
      "execution_count": 72,
      "outputs": [
        {
          "output_type": "execute_result",
          "data": {
            "text/plain": [
              "4"
            ]
          },
          "metadata": {},
          "execution_count": 72
        }
      ]
    },
    {
      "cell_type": "code",
      "source": [
        "print (\"I love Python!\")"
      ],
      "metadata": {
        "colab": {
          "base_uri": "https://localhost:8080/"
        },
        "id": "tmvH6ZP7i7VF",
        "outputId": "a0e86942-edfc-497a-c5f4-24df147b0e73"
      },
      "execution_count": 73,
      "outputs": [
        {
          "output_type": "stream",
          "name": "stdout",
          "text": [
            "I love Python!\n"
          ]
        }
      ]
    },
    {
      "cell_type": "code",
      "source": [
        "print (\"My favourite number is : \" ,3) #you can make bigger expressions in print function with comma(,)"
      ],
      "metadata": {
        "colab": {
          "base_uri": "https://localhost:8080/"
        },
        "id": "VGRbaAbQjAXw",
        "outputId": "6d55296c-da96-402c-8fed-b6fcf1b11318"
      },
      "execution_count": 74,
      "outputs": [
        {
          "output_type": "stream",
          "name": "stdout",
          "text": [
            "My favourite number is :  3\n"
          ]
        }
      ]
    },
    {
      "cell_type": "code",
      "source": [
        "#Read Data\n",
        "\n",
        "a = input()    # let's take value from user eg. in taking passwords in your code\n",
        "#you will use input() function\n",
        "#default data type of input is string\n",
        "\n",
        "\n",
        "print (\"taken value : \", a)\n"
      ],
      "metadata": {
        "colab": {
          "base_uri": "https://localhost:8080/"
        },
        "id": "FssRZ-QmFj4y",
        "outputId": "1ba9f03f-8cab-4b34-981a-4b44f616a6ba"
      },
      "execution_count": 50,
      "outputs": [
        {
          "output_type": "stream",
          "name": "stdout",
          "text": [
            "You are the champion!\n",
            "taken value :  You are the champion!\n"
          ]
        }
      ]
    },
    {
      "cell_type": "code",
      "source": [
        "a = input()\n",
        "b = input()\n",
        "\n",
        "a+b"
      ],
      "metadata": {
        "colab": {
          "base_uri": "https://localhost:8080/",
          "height": 71
        },
        "id": "r9KINwv3Hjpx",
        "outputId": "fc5dd278-9298-4fd7-cfb7-2577cea2179e"
      },
      "execution_count": 51,
      "outputs": [
        {
          "name": "stdout",
          "output_type": "stream",
          "text": [
            "3\n",
            "2\n"
          ]
        },
        {
          "output_type": "execute_result",
          "data": {
            "text/plain": [
              "'32'"
            ],
            "application/vnd.google.colaboratory.intrinsic+json": {
              "type": "string"
            }
          },
          "metadata": {},
          "execution_count": 51
        }
      ]
    },
    {
      "cell_type": "code",
      "source": [
        "a = int(input()) #int fuction convert the data type to integer\n",
        "b = int(input())\n",
        "\n",
        "a+b"
      ],
      "metadata": {
        "colab": {
          "base_uri": "https://localhost:8080/"
        },
        "id": "kR8x77OJGLrF",
        "outputId": "4e78aee2-cef3-486f-cd89-3e104c1be74e"
      },
      "execution_count": 52,
      "outputs": [
        {
          "name": "stdout",
          "output_type": "stream",
          "text": [
            "3\n",
            "2\n"
          ]
        },
        {
          "output_type": "execute_result",
          "data": {
            "text/plain": [
              "5"
            ]
          },
          "metadata": {},
          "execution_count": 52
        }
      ]
    },
    {
      "cell_type": "code",
      "source": [
        "#we can write functions nested\n",
        "\n",
        "type(input())\n",
        "\n",
        "#changing the variables in the same type means convert, type transformation, parse"
      ],
      "metadata": {
        "colab": {
          "base_uri": "https://localhost:8080/"
        },
        "id": "Q8xg7HSWjSNO",
        "outputId": "6df1add7-feb4-4b71-860f-6ceb66ab361d"
      },
      "execution_count": 75,
      "outputs": [
        {
          "name": "stdout",
          "output_type": "stream",
          "text": [
            "You are the king!\n"
          ]
        },
        {
          "output_type": "execute_result",
          "data": {
            "text/plain": [
              "str"
            ]
          },
          "metadata": {},
          "execution_count": 75
        }
      ]
    },
    {
      "cell_type": "code",
      "source": [
        "#Let's take name and surname as an input and return \"Welcome name and surname\""
      ],
      "metadata": {
        "id": "D5d9BDnKHrtP"
      },
      "execution_count": 68,
      "outputs": []
    },
    {
      "cell_type": "code",
      "source": [
        "x = input(\"Your name & Surname : \" )\n",
        "print(x + \" Welcome!\")"
      ],
      "metadata": {
        "colab": {
          "base_uri": "https://localhost:8080/"
        },
        "id": "Tk1pkrOTJDEA",
        "outputId": "52d198e8-9b19-4445-d1af-70bbaaa6e73d"
      },
      "execution_count": 69,
      "outputs": [
        {
          "output_type": "stream",
          "name": "stdout",
          "text": [
            "Your name & Surname : Sally B\n",
            "Sally B Welcome!\n"
          ]
        }
      ]
    },
    {
      "cell_type": "code",
      "source": [
        "x = input(\"Your name & Surname : \" )\n",
        "print(x, \"Welcome!\")"
      ],
      "metadata": {
        "colab": {
          "base_uri": "https://localhost:8080/"
        },
        "id": "fsbOZjzaJvC4",
        "outputId": "07823afc-3911-4b69-b4b0-65f15e708051"
      },
      "execution_count": 57,
      "outputs": [
        {
          "output_type": "stream",
          "name": "stdout",
          "text": [
            "Your name & Surname : Sally B\n",
            "Sally B Welcome!\n"
          ]
        }
      ]
    },
    {
      "cell_type": "code",
      "source": [
        "x = input(\"your name: \")\n",
        "y = input(\"your surname: \")\n",
        "z = input(\"your age: \")\n",
        "print(\"Dear\",x,y, \"your new age:\",z,\"Happy Birthday!\")"
      ],
      "metadata": {
        "colab": {
          "base_uri": "https://localhost:8080/"
        },
        "id": "kJ-cEmaeJ-nL",
        "outputId": "a5db5dfd-cbb0-4d8a-d68d-834ba7fb9f68"
      },
      "execution_count": 63,
      "outputs": [
        {
          "output_type": "stream",
          "name": "stdout",
          "text": [
            "your name: Sally\n",
            "your surname: B\n",
            "your age:34\n",
            "Dear Sally B your new age: 34 Happy Birthday!\n"
          ]
        }
      ]
    },
    {
      "cell_type": "markdown",
      "source": [
        "## String Operations"
      ],
      "metadata": {
        "id": "eXjAhN9WS4S4"
      }
    },
    {
      "cell_type": "code",
      "source": [
        "# Methods vs Fuctions\n",
        "\n",
        "#A function is a set of instructions or procedures to perform a specific task,\n",
        "#and a method is a set of instructions that are associated with an object.\n",
        "\n",
        "info = \"A method is a set of instructions that are associated with an object\"\n",
        "type(info)"
      ],
      "metadata": {
        "colab": {
          "base_uri": "https://localhost:8080/"
        },
        "id": "fdd-CPrgTCEx",
        "outputId": "266de88b-b2fe-4bb1-f674-bebce3719795"
      },
      "execution_count": 76,
      "outputs": [
        {
          "output_type": "execute_result",
          "data": {
            "text/plain": [
              "str"
            ]
          },
          "metadata": {},
          "execution_count": 76
        }
      ]
    },
    {
      "cell_type": "code",
      "source": [
        "info.count(\"s\")"
      ],
      "metadata": {
        "colab": {
          "base_uri": "https://localhost:8080/"
        },
        "id": "MsdzOEk-jrXf",
        "outputId": "6bd40e81-c665-4052-f6a7-d4a6b9629324"
      },
      "execution_count": 77,
      "outputs": [
        {
          "output_type": "execute_result",
          "data": {
            "text/plain": [
              "6"
            ]
          },
          "metadata": {},
          "execution_count": 77
        }
      ]
    },
    {
      "cell_type": "code",
      "source": [
        "info.upper()"
      ],
      "metadata": {
        "colab": {
          "base_uri": "https://localhost:8080/",
          "height": 35
        },
        "id": "7E8KU48Cjukb",
        "outputId": "a07b2a2e-afa5-43ee-cd61-2644a8d0cbbc"
      },
      "execution_count": 78,
      "outputs": [
        {
          "output_type": "execute_result",
          "data": {
            "text/plain": [
              "'A METHOD IS A SET OF INSTRUCTIONS THAT ARE ASSOCIATED WITH AN OBJECT'"
            ],
            "application/vnd.google.colaboratory.intrinsic+json": {
              "type": "string"
            }
          },
          "metadata": {},
          "execution_count": 78
        }
      ]
    },
    {
      "cell_type": "code",
      "source": [
        "info.lower()"
      ],
      "metadata": {
        "colab": {
          "base_uri": "https://localhost:8080/",
          "height": 35
        },
        "id": "ng7uTQ_TjxzR",
        "outputId": "f8a6e01f-79df-4f1e-8803-e79d9d3e5e3d"
      },
      "execution_count": 79,
      "outputs": [
        {
          "output_type": "execute_result",
          "data": {
            "text/plain": [
              "'a method is a set of instructions that are associated with an object'"
            ],
            "application/vnd.google.colaboratory.intrinsic+json": {
              "type": "string"
            }
          },
          "metadata": {},
          "execution_count": 79
        }
      ]
    },
    {
      "cell_type": "code",
      "source": [
        "info.title()"
      ],
      "metadata": {
        "colab": {
          "base_uri": "https://localhost:8080/",
          "height": 35
        },
        "id": "SmD4ILjEkRMa",
        "outputId": "3e2f3ccf-951d-4377-c880-f21a244431a3"
      },
      "execution_count": 86,
      "outputs": [
        {
          "output_type": "execute_result",
          "data": {
            "text/plain": [
              "'A Method Is A Set Of Instructions That Are Associated With An Object'"
            ],
            "application/vnd.google.colaboratory.intrinsic+json": {
              "type": "string"
            }
          },
          "metadata": {},
          "execution_count": 86
        }
      ]
    },
    {
      "cell_type": "code",
      "source": [
        "info.find(\"i\")  #lets find the position of \"i\""
      ],
      "metadata": {
        "colab": {
          "base_uri": "https://localhost:8080/"
        },
        "id": "N4CoVPB9kMm7",
        "outputId": "2df33032-8d34-44f8-ea5c-ba08447865a4"
      },
      "execution_count": 85,
      "outputs": [
        {
          "output_type": "execute_result",
          "data": {
            "text/plain": [
              "9"
            ]
          },
          "metadata": {},
          "execution_count": 85
        }
      ]
    },
    {
      "cell_type": "code",
      "source": [
        "info.replace(\" \", \"=\")"
      ],
      "metadata": {
        "colab": {
          "base_uri": "https://localhost:8080/",
          "height": 35
        },
        "id": "Qrggsnuwj0OM",
        "outputId": "9c8df34e-99cc-405f-e0ce-b9d3d70bfe7a"
      },
      "execution_count": 80,
      "outputs": [
        {
          "output_type": "execute_result",
          "data": {
            "text/plain": [
              "'A=method=is=a=set=of=instructions=that=are=associated=with=an=object'"
            ],
            "application/vnd.google.colaboratory.intrinsic+json": {
              "type": "string"
            }
          },
          "metadata": {},
          "execution_count": 80
        }
      ]
    },
    {
      "cell_type": "code",
      "source": [
        "info.endswith(\"s\")"
      ],
      "metadata": {
        "colab": {
          "base_uri": "https://localhost:8080/"
        },
        "id": "aq-P75hBkCeB",
        "outputId": "b369ea9b-6305-4984-b3d7-69eab50f652a"
      },
      "execution_count": 82,
      "outputs": [
        {
          "output_type": "execute_result",
          "data": {
            "text/plain": [
              "False"
            ]
          },
          "metadata": {},
          "execution_count": 82
        }
      ]
    },
    {
      "cell_type": "code",
      "source": [
        "info.count(\"w\")"
      ],
      "metadata": {
        "colab": {
          "base_uri": "https://localhost:8080/"
        },
        "id": "Yy3QQk9dkFB7",
        "outputId": "34b18d58-12e1-49ef-e72f-d2d54710fd11"
      },
      "execution_count": 83,
      "outputs": [
        {
          "output_type": "execute_result",
          "data": {
            "text/plain": [
              "1"
            ]
          },
          "metadata": {},
          "execution_count": 83
        }
      ]
    },
    {
      "cell_type": "code",
      "source": [
        "info.split(\"a\")"
      ],
      "metadata": {
        "colab": {
          "base_uri": "https://localhost:8080/"
        },
        "id": "8Koof_NMkIWb",
        "outputId": "1770106a-cb79-4c93-9c0b-0319a625eee4"
      },
      "execution_count": 84,
      "outputs": [
        {
          "output_type": "execute_result",
          "data": {
            "text/plain": [
              "['A method is ',\n",
              " ' set of instructions th',\n",
              " 't ',\n",
              " 're ',\n",
              " 'ssoci',\n",
              " 'ted with ',\n",
              " 'n object']"
            ]
          },
          "metadata": {},
          "execution_count": 84
        }
      ]
    },
    {
      "cell_type": "code",
      "source": [
        "info.lower().replace(\" \", \"|\").split(\"|\")"
      ],
      "metadata": {
        "colab": {
          "base_uri": "https://localhost:8080/"
        },
        "id": "eSksU9WVj_le",
        "outputId": "61b3ff10-6703-4b4e-913b-a074fbb8617e"
      },
      "execution_count": 81,
      "outputs": [
        {
          "output_type": "execute_result",
          "data": {
            "text/plain": [
              "['a',\n",
              " 'method',\n",
              " 'is',\n",
              " 'a',\n",
              " 'set',\n",
              " 'of',\n",
              " 'instructions',\n",
              " 'that',\n",
              " 'are',\n",
              " 'associated',\n",
              " 'with',\n",
              " 'an',\n",
              " 'object']"
            ]
          },
          "metadata": {},
          "execution_count": 81
        }
      ]
    },
    {
      "cell_type": "markdown",
      "source": [
        "Notes:"
      ],
      "metadata": {
        "id": "oelznHuygR7c"
      }
    },
    {
      "cell_type": "markdown",
      "source": [
        "\n",
        "\n",
        "*   You can run the cell with shift + enter\n",
        "*   If the In(input) cell is blank, it means it is not working, and if In cell is *, it means that cell still working.\n",
        "*   \"\"\"Add blank\"\"\"  #shift + (\"\") for 3 times to add block comment and as a second way also you can pres control + /\n",
        "*   If you want to add cell after, you can click option + return or when you are beginning of the code cell you can press \"b\".\n",
        "*   If you want to add cell before, when you are beginning of the code cell you can press \"a\"\n",
        "\n",
        "\n",
        "\n"
      ],
      "metadata": {
        "id": "udmJVU2bgekL"
      }
    }
  ]
}